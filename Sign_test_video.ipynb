{
 "cells": [
  {
   "cell_type": "markdown",
   "metadata": {},
   "source": [
    "# Test Vidéo\n",
    "\n",
    "L'objectif est de maintenant tester notre modèle en temps réel. Nous reprenons la même structure que pour l'acquisition des données pour l'entrainement du modèle. A la différence que nous ajoutons la prédiction du signe effectué avec la main et affichons la lettre pour former un mot.\n",
    "\n",
    "Afin d'avoir un résultat satisfaisant, le test doit être réalisé sur un fond uniforme pour éviter les artefacts parasites. Bien qu'à l'ouverture de la caméra, la main n'est pas encore placé dans le cadre de détection, le modèle prédit de façon chaotique des lettres du fait d'une trop grande sensibilité.\n",
    "\n",
    "Certaines lettres sont plus difficilement déchiffrables que d'autres (notamment le F, K, M, N, T), nous avons ajouté une commande afin d'effacer la dernière lettre si elle n'était pas recherchée. Nous avons pu construire certains mots, et phrases (Pour des raisons de visibilité, nous avons changé l'espace par un underscore)."
   ]
  },
  {
   "cell_type": "code",
   "execution_count": 1,
   "metadata": {},
   "outputs": [],
   "source": [
    "import numpy as np\n",
    "import cv2\n",
    "import tensorflow as tf"
   ]
  },
  {
   "cell_type": "markdown",
   "metadata": {},
   "source": [
    "### Chargement du modèle"
   ]
  },
  {
   "cell_type": "code",
   "execution_count": 2,
   "metadata": {},
   "outputs": [],
   "source": [
    "model = tf.keras.models.load_model(r\"model5_sign\")"
   ]
  },
  {
   "cell_type": "code",
   "execution_count": 3,
   "metadata": {},
   "outputs": [],
   "source": [
    "background = None\n",
    "accumulated_weight = 0.5\n",
    "ROI_top = 50\n",
    "ROI_bottom = 300\n",
    "ROI_right = 50\n",
    "ROI_left = 300"
   ]
  },
  {
   "cell_type": "code",
   "execution_count": 25,
   "metadata": {},
   "outputs": [],
   "source": [
    "word_dict = {0:'A',1:'B',2:'C',3:'D',4:'E',5:'F',6:'G',7:'H',8:'I',9:'J',10:'K',11:'L',12:'M',13:'N',14:'O',15:'P',16:'Q',17:'R',18:'S',19:'T',20:'U',21:'V',22:'W',23:'X',24:'Y',25:'Z',26:' _ '}"
   ]
  },
  {
   "cell_type": "code",
   "execution_count": 5,
   "metadata": {},
   "outputs": [],
   "source": [
    "def cal_accum_avg(frame, accumulated_weight):\n",
    "    global background\n",
    "    \n",
    "    if background is None:\n",
    "        background = frame.copy().astype(\"float\")\n",
    "        return None\n",
    "    cv2.accumulateWeighted(frame, background, accumulated_weight)"
   ]
  },
  {
   "cell_type": "code",
   "execution_count": 6,
   "metadata": {},
   "outputs": [],
   "source": [
    "def segment_hand(frame, threshold=25):\n",
    "    global background\n",
    "    \n",
    "    diff = cv2.absdiff(background.astype(\"uint8\"), frame)\n",
    "    thresholded = cv2.adaptiveThreshold(diff,255,cv2.ADAPTIVE_THRESH_GAUSSIAN_C, cv2.THRESH_BINARY,11,2)\n",
    "    \n",
    "    return (thresholded)"
   ]
  },
  {
   "cell_type": "code",
   "execution_count": 52,
   "metadata": {},
   "outputs": [],
   "source": [
    "# Ouverture de la caméra\n",
    "cam = cv2.VideoCapture(0)\n",
    "\n",
    "# Définition des variables (nombre de frame, lettres prédites, mot à afficher, liste pour l'ajout de la lettre prédite)\n",
    "num_frames = 0\n",
    "letter = ''\n",
    "word = ''\n",
    "append_text = []\n",
    "\n",
    "\n",
    "while True:\n",
    "    ret, frame = cam.read()\n",
    "    \n",
    "    # Eviter l'inversement de l'image \n",
    "    frame = cv2.flip(frame, 1)\n",
    "    frame_copy = frame.copy()\n",
    "    \n",
    "    # Traitement\n",
    "    roi = frame[ROI_top:ROI_bottom, ROI_right:ROI_left]\n",
    "    gray_frame = cv2.cvtColor(roi, cv2.COLOR_BGR2GRAY)\n",
    "    gray_frame = cv2.GaussianBlur(gray_frame, (7, 7), 0)\n",
    "    \n",
    "    # Détection du Background\n",
    "    if num_frames < 70:\n",
    "        cal_accum_avg(gray_frame, accumulated_weight)\n",
    "        cv2.putText(frame_copy, \"Chargement\", (80, 400), cv2.FONT_HERSHEY_SIMPLEX, 0.9, (0,0,255), 2)\n",
    "    \n",
    "    else: \n",
    "        # Voir si la main est bien détectée\n",
    "        hand = segment_hand(gray_frame)\n",
    "        \n",
    "        if hand is not None:\n",
    "            \n",
    "            thresholded = hand\n",
    "            \n",
    "            cv2.imshow(\"Filtre\", thresholded)\n",
    "            \n",
    "            # Traitement\n",
    "            thresholded = cv2.resize(thresholded, (128, 128))\n",
    "            thresholded = cv2.cvtColor(thresholded, cv2.COLOR_GRAY2RGB)\n",
    "            thresholded = np.reshape(thresholded, (1,thresholded.shape[0],thresholded.shape[1],3))\n",
    "            \n",
    "            # Incorporation du modèle (prédiction et les probabilités de celle-ci)\n",
    "            pred = model.predict(thresholded)\n",
    "            proba = model.predict_proba(thresholded)\n",
    "            \n",
    "            # Affichage de la prédiction\n",
    "            cv2.putText(frame_copy, word_dict[np.argmax(pred)], (170, 45), cv2.FONT_HERSHEY_SIMPLEX, 1, (0,0,255), 2)\n",
    "            \n",
    "            # Ajout de la lettre au mot qu'on veut former (lettre avec une probabilité de 70% minimum)\n",
    "            if np.argmax(proba)>0.7:\n",
    "                letter = word_dict[np.argmax(pred)]\n",
    "                append_text.append(letter)\n",
    "                \n",
    "                # Si cette lettre est présente plus de 15 fois dans la liste append_text, alors elle est ajouté au mot formé\n",
    "                if append_text.count(letter)>35:\n",
    "                    word+=letter\n",
    "                    letter=''\n",
    "                    append_text = []\n",
    "                    \n",
    "            # Efface la dernière lettre du mot\n",
    "            if cv2.waitKey(1) & 0xFF == ord('e'):\n",
    "                word = word[0:-1]\n",
    "                    \n",
    "            cv2.putText(frame_copy, word, (250, 400), cv2.FONT_HERSHEY_SIMPLEX, 1, (0,255,0), 2)\n",
    "                                                    \n",
    "    # Dessine une ROI de la frame Filtre\n",
    "    cv2.rectangle(frame_copy, (ROI_left, ROI_top), (ROI_right, ROI_bottom), (255,128,0), 3)\n",
    "    num_frames += 1\n",
    "    \n",
    "    # Affiche la frame qui permettra la prédiction\n",
    "    cv2.putText(frame_copy, \"Prediction\", (10, 20), cv2.FONT_ITALIC, 0.5, (51,255,51), 1)\n",
    "    cv2.imshow(\"Camera\", frame_copy)\n",
    "    \n",
    "    # Fermer l'application\n",
    "    if cv2.waitKey(1) & 0xFF == ord('q'):\n",
    "        break\n",
    "\n",
    "cam.release()\n",
    "cv2.destroyAllWindows()"
   ]
  },
  {
   "cell_type": "code",
   "execution_count": null,
   "metadata": {},
   "outputs": [],
   "source": []
  }
 ],
 "metadata": {
  "kernelspec": {
   "display_name": "Python 3",
   "language": "python",
   "name": "python3"
  },
  "language_info": {
   "codemirror_mode": {
    "name": "ipython",
    "version": 3
   },
   "file_extension": ".py",
   "mimetype": "text/x-python",
   "name": "python",
   "nbconvert_exporter": "python",
   "pygments_lexer": "ipython3",
   "version": "3.8.3"
  }
 },
 "nbformat": 4,
 "nbformat_minor": 4
}
